{
  "nbformat": 4,
  "nbformat_minor": 0,
  "metadata": {
    "colab": {
      "name": "NLP_simple_RNN.ipynb",
      "version": "0.3.2",
      "provenance": [],
      "collapsed_sections": []
    },
    "language_info": {
      "codemirror_mode": {
        "name": "ipython",
        "version": 3
      },
      "file_extension": ".py",
      "mimetype": "text/x-python",
      "name": "python",
      "nbconvert_exporter": "python",
      "pygments_lexer": "ipython3",
      "version": "3.6.0"
    },
    "kernelspec": {
      "name": "python3",
      "display_name": "Python 3"
    },
    "accelerator": "GPU"
  },
  "cells": [
    {
      "cell_type": "markdown",
      "metadata": {
        "id": "wYGGdoMgjssw",
        "colab_type": "text"
      },
      "source": [
        "# Language modelling"
      ]
    },
    {
      "cell_type": "markdown",
      "metadata": {
        "id": "pQligDFNjss0",
        "colab_type": "text"
      },
      "source": [
        "In this tutorial we will use two character level language models to create dinosaur names. These models are:\n",
        "* bigram model\n",
        "* recurrent neural network model.\n",
        "\n",
        "Why are they different?"
      ]
    },
    {
      "cell_type": "code",
      "metadata": {
        "id": "orrsiLN6kI5D",
        "colab_type": "code",
        "colab": {}
      },
      "source": [
        ""
      ],
      "execution_count": 0,
      "outputs": []
    },
    {
      "cell_type": "markdown",
      "metadata": {
        "id": "8egeope4jss2",
        "colab_type": "text"
      },
      "source": [
        "![picture](https://vignette.wikia.nocookie.net/uncyclopedia/images/7/73/Hankk_the_dino.png/revision/latest?cb=20100127020302)"
      ]
    },
    {
      "cell_type": "code",
      "metadata": {
        "id": "RYL4i1UqF23_",
        "colab_type": "code",
        "outputId": "46062e4f-643d-4c82-af2f-4003b612c735",
        "colab": {
          "resources": {
            "http://localhost:8080/nbextensions/google.colab/files.js": {
              "data": "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",
              "ok": true,
              "headers": [
                [
                  "content-type",
                  "application/javascript"
                ]
              ],
              "status": 200,
              "status_text": ""
            }
          },
          "base_uri": "https://localhost:8080/",
          "height": 74
        }
      },
      "source": [
        "from google.colab import files\n",
        "uploaded = files.upload()"
      ],
      "execution_count": 0,
      "outputs": [
        {
          "output_type": "display_data",
          "data": {
            "text/html": [
              "\n",
              "     <input type=\"file\" id=\"files-00d89c43-216f-4c73-b10a-fcbe35ba837f\" name=\"files[]\" multiple disabled />\n",
              "     <output id=\"result-00d89c43-216f-4c73-b10a-fcbe35ba837f\">\n",
              "      Upload widget is only available when the cell has been executed in the\n",
              "      current browser session. Please rerun this cell to enable.\n",
              "      </output>\n",
              "      <script src=\"/nbextensions/google.colab/files.js\"></script> "
            ],
            "text/plain": [
              "<IPython.core.display.HTML object>"
            ]
          },
          "metadata": {
            "tags": []
          }
        },
        {
          "output_type": "stream",
          "text": [
            "Saving dinos.txt to dinos.txt\n"
          ],
          "name": "stdout"
        }
      ]
    },
    {
      "cell_type": "markdown",
      "metadata": {
        "id": "mxAAlqAsjss5",
        "colab_type": "text"
      },
      "source": [
        "## Bigram model\n",
        "\n",
        "Uncomment the cell below if you do not have NLTK installed."
      ]
    },
    {
      "cell_type": "code",
      "metadata": {
        "id": "HpETpiZcjss7",
        "colab_type": "code",
        "outputId": "20c826cb-a213-484a-9eab-bbbf083226ba",
        "colab": {
          "base_uri": "https://localhost:8080/",
          "height": 34
        }
      },
      "source": [
        "names = ['<' + name.strip().lower() + '>' for name in open('dinos.txt').readlines()]\n",
        "print(names[:10])"
      ],
      "execution_count": 0,
      "outputs": [
        {
          "output_type": "stream",
          "text": [
            "['<aachenosaurus>', '<aardonyx>', '<abdallahsaurus>', '<abelisaurus>', '<abrictosaurus>', '<abrosaurus>', '<abydosaurus>', '<acanthopholis>', '<achelousaurus>', '<acheroraptor>']\n"
          ],
          "name": "stdout"
        }
      ]
    },
    {
      "cell_type": "code",
      "metadata": {
        "id": "_db6xNrqjstK",
        "colab_type": "code",
        "outputId": "9dd122cb-3418-4ca4-d08c-c7af7ba7efef",
        "colab": {
          "base_uri": "https://localhost:8080/",
          "height": 50
        }
      },
      "source": [
        "!pip install nltk"
      ],
      "execution_count": 0,
      "outputs": [
        {
          "output_type": "stream",
          "text": [
            "Requirement already satisfied: nltk in /usr/local/lib/python3.6/dist-packages (3.2.5)\n",
            "Requirement already satisfied: six in /usr/local/lib/python3.6/dist-packages (from nltk) (1.12.0)\n"
          ],
          "name": "stdout"
        }
      ]
    },
    {
      "cell_type": "code",
      "metadata": {
        "id": "JbcfIPmUjstP",
        "colab_type": "code",
        "colab": {}
      },
      "source": [
        "import nltk"
      ],
      "execution_count": 0,
      "outputs": []
    },
    {
      "cell_type": "markdown",
      "metadata": {
        "id": "9V9HiCAtjstU",
        "colab_type": "text"
      },
      "source": [
        "**Step 1.** Compute frequency of each character"
      ]
    },
    {
      "cell_type": "code",
      "metadata": {
        "id": "IiAYXooljstV",
        "colab_type": "code",
        "colab": {}
      },
      "source": [
        "chars = [char  for name in names for char in name]\n",
        "freq = nltk.FreqDist(chars)"
      ],
      "execution_count": 0,
      "outputs": []
    },
    {
      "cell_type": "code",
      "metadata": {
        "id": "WNtqsKIwjsta",
        "colab_type": "code",
        "outputId": "797e55c5-a9eb-411d-9b15-f84287adb8dc",
        "colab": {
          "base_uri": "https://localhost:8080/",
          "height": 34
        }
      },
      "source": [
        "print(list(freq.keys()))"
      ],
      "execution_count": 0,
      "outputs": [
        {
          "output_type": "stream",
          "text": [
            "['<', 'a', 'c', 'h', 'e', 'n', 'o', 's', 'u', 'r', '>', 'd', 'y', 'x', 'b', 'l', 'i', 't', 'p', 'v', 'm', 'g', 'f', 'j', 'k', 'w', 'z', 'q']\n"
          ],
          "name": "stdout"
        }
      ]
    },
    {
      "cell_type": "code",
      "metadata": {
        "id": "1oYt93aRjstg",
        "colab_type": "code",
        "outputId": "90c9b051-33b2-43ae-8f04-e93f70c2c71b",
        "colab": {
          "base_uri": "https://localhost:8080/",
          "height": 185
        }
      },
      "source": [
        "freq.most_common(10)"
      ],
      "execution_count": 0,
      "outputs": [
        {
          "output_type": "execute_result",
          "data": {
            "text/plain": [
              "[('a', 2487),\n",
              " ('s', 2285),\n",
              " ('u', 2123),\n",
              " ('o', 1710),\n",
              " ('r', 1704),\n",
              " ('<', 1536),\n",
              " ('>', 1536),\n",
              " ('n', 1081),\n",
              " ('i', 944),\n",
              " ('e', 913)]"
            ]
          },
          "metadata": {
            "tags": []
          },
          "execution_count": 45
        }
      ]
    },
    {
      "cell_type": "markdown",
      "metadata": {
        "id": "uAGrzEfAjstk",
        "colab_type": "text"
      },
      "source": [
        "Define a function to estimate probabilty of character"
      ]
    },
    {
      "cell_type": "code",
      "metadata": {
        "id": "DqSMnYS6jstl",
        "colab_type": "code",
        "colab": {}
      },
      "source": [
        "l = sum([freq[char] for char in freq])\n",
        "def unigram_prob(char):\n",
        "    return freq[char] / l"
      ],
      "execution_count": 0,
      "outputs": []
    },
    {
      "cell_type": "code",
      "metadata": {
        "id": "jG4qTiX3jsto",
        "colab_type": "code",
        "outputId": "87adb1dc-a5c6-4c04-d8a7-bc12a3e42b39",
        "colab": {
          "base_uri": "https://localhost:8080/",
          "height": 34
        }
      },
      "source": [
        "print('p(a) = %1.4f' %unigram_prob('a'))"
      ],
      "execution_count": 0,
      "outputs": [
        {
          "output_type": "stream",
          "text": [
            "p(a) = 0.1160\n"
          ],
          "name": "stdout"
        }
      ]
    },
    {
      "cell_type": "markdown",
      "metadata": {
        "id": "sQ0OtOtdjstr",
        "colab_type": "text"
      },
      "source": [
        "**Step 2.** Compute frequency of each character condtioned on the previous one"
      ]
    },
    {
      "cell_type": "code",
      "metadata": {
        "id": "VWwpZw27jsts",
        "colab_type": "code",
        "colab": {}
      },
      "source": [
        "cfreq = nltk.ConditionalFreqDist(nltk.bigrams(chars),)"
      ],
      "execution_count": 0,
      "outputs": []
    },
    {
      "cell_type": "code",
      "metadata": {
        "id": "jL2VKqWdjstv",
        "colab_type": "code",
        "outputId": "887680bf-eefa-4bc7-dd38-cb1941905155",
        "colab": {
          "base_uri": "https://localhost:8080/",
          "height": 470
        }
      },
      "source": [
        "# кол-во раз, когда какая-то буква встреается ПОСЛЕ а\n",
        "cfreq['a']"
      ],
      "execution_count": 0,
      "outputs": [
        {
          "output_type": "execute_result",
          "data": {
            "text/plain": [
              "FreqDist({'>': 138,\n",
              "          'a': 11,\n",
              "          'b': 24,\n",
              "          'c': 100,\n",
              "          'd': 36,\n",
              "          'e': 42,\n",
              "          'f': 6,\n",
              "          'g': 40,\n",
              "          'h': 17,\n",
              "          'i': 23,\n",
              "          'j': 5,\n",
              "          'k': 20,\n",
              "          'l': 138,\n",
              "          'm': 68,\n",
              "          'n': 347,\n",
              "          'o': 22,\n",
              "          'p': 89,\n",
              "          'q': 3,\n",
              "          'r': 124,\n",
              "          's': 171,\n",
              "          't': 204,\n",
              "          'u': 791,\n",
              "          'v': 30,\n",
              "          'w': 6,\n",
              "          'x': 12,\n",
              "          'y': 12,\n",
              "          'z': 8})"
            ]
          },
          "metadata": {
            "tags": []
          },
          "execution_count": 49
        }
      ]
    },
    {
      "cell_type": "markdown",
      "metadata": {
        "id": "1NKiJclcjsty",
        "colab_type": "text"
      },
      "source": [
        "**Step 3.** Use MLE to estimate condtional probabilities"
      ]
    },
    {
      "cell_type": "code",
      "metadata": {
        "id": "ro7_s1Qqjstz",
        "colab_type": "code",
        "colab": {}
      },
      "source": [
        "cprob = nltk.ConditionalProbDist(cfreq, nltk.MLEProbDist)"
      ],
      "execution_count": 0,
      "outputs": []
    },
    {
      "cell_type": "code",
      "metadata": {
        "id": "8bnl2c5pjst2",
        "colab_type": "code",
        "outputId": "e7250ab2-ff84-4c41-fffc-b2f204f0a6ed",
        "colab": {
          "base_uri": "https://localhost:8080/",
          "height": 67
        }
      },
      "source": [
        "print('p(a a) = %1.4f' %cprob['a'].prob('a'))\n",
        "print('p(a b) = %1.4f' %cprob['a'].prob('b'))\n",
        "print('p(a u) = %1.4f' %cprob['a'].prob('u'))"
      ],
      "execution_count": 0,
      "outputs": [
        {
          "output_type": "stream",
          "text": [
            "p(a a) = 0.0044\n",
            "p(a b) = 0.0097\n",
            "p(a u) = 0.3181\n"
          ],
          "name": "stdout"
        }
      ]
    },
    {
      "cell_type": "markdown",
      "metadata": {
        "id": "NJbfwA_Kjst5",
        "colab_type": "text"
      },
      "source": [
        "We can use cprob to generate next characters"
      ]
    },
    {
      "cell_type": "markdown",
      "metadata": {
        "id": "ZOEH4tcijst-",
        "colab_type": "text"
      },
      "source": [
        "### Task 1.\n",
        "a. Write a function to generate a dinosaur name of **fixed** length. Use '<' as a start of name symbol.\n",
        "\n",
        "b. Write a to generate a dinosaur names of any length. "
      ]
    },
    {
      "cell_type": "code",
      "metadata": {
        "id": "Xsfr0IzMzwza",
        "colab_type": "code",
        "colab": {}
      },
      "source": [
        "## let's ommit for a while function for a name with fixed length"
      ],
      "execution_count": 0,
      "outputs": []
    },
    {
      "cell_type": "markdown",
      "metadata": {
        "id": "rq5nXsgVBJp_",
        "colab_type": "text"
      },
      "source": [
        "# HW, Problem 3.1"
      ]
    },
    {
      "cell_type": "markdown",
      "metadata": {
        "id": "9bO2Jm03HoYB",
        "colab_type": "text"
      },
      "source": [
        "### a) dinosaur name of any length\n"
      ]
    },
    {
      "cell_type": "code",
      "metadata": {
        "id": "TpfrZxzYz9oA",
        "colab_type": "code",
        "outputId": "a06e7dd6-1d79-40d6-f6d0-d0410fb0a89c",
        "colab": {
          "base_uri": "https://localhost:8080/",
          "height": 34
        }
      },
      "source": [
        "def dinosaur_name_any_length(cprob = cprob):\n",
        "  start_symbol = \"<\"\n",
        "  dino_name = \"<\"\n",
        "\n",
        "  new_char = cprob[start_symbol].generate()\n",
        "  dino_name = dino_name + new_char\n",
        "\n",
        "  while True:\n",
        "    new_char = cprob[new_char].generate()\n",
        "    dino_name = dino_name + new_char\n",
        "    if new_char == \">\":\n",
        "      break\n",
        "  return dino_name\n",
        "  \n",
        "\n",
        "  \n",
        "name = dinosaur_name_any_length(cprob = cprob)\n",
        "/print(name)"
      ],
      "execution_count": 0,
      "outputs": [
        {
          "output_type": "stream",
          "text": [
            "<gnosarusatiaurus>\n"
          ],
          "name": "stdout"
        }
      ]
    },
    {
      "cell_type": "markdown",
      "metadata": {
        "id": "2eMcNKOAHuRt",
        "colab_type": "text"
      },
      "source": [
        "### b) Add add-one smoothing. What is the difference?"
      ]
    },
    {
      "cell_type": "code",
      "metadata": {
        "id": "3uM3VRB9FP3s",
        "colab_type": "code",
        "outputId": "78ab381d-c3c6-4c8c-95d6-6eadcf41e6c2",
        "colab": {
          "base_uri": "https://localhost:8080/",
          "height": 34
        }
      },
      "source": [
        "## add-1 smoothing\n",
        "cprob_add_one_smoothing = nltk.ConditionalProbDist(cfreq, nltk.LaplaceProbDist)\n",
        "name = dinosaur_name_any_length(cprob = cprob_add_one_smoothing)\n",
        "print(name)"
      ],
      "execution_count": 0,
      "outputs": [
        {
          "output_type": "stream",
          "text": [
            "<aclelodelis>\n"
          ],
          "name": "stdout"
        }
      ]
    },
    {
      "cell_type": "markdown",
      "metadata": {
        "id": "9PHSgZMOH1GL",
        "colab_type": "text"
      },
      "source": [
        "With add-one smoothing we can get more names (all possible combinations of letters) as P(letter 1 | letter 2) != 0 for any letter 1 and 2"
      ]
    },
    {
      "cell_type": "markdown",
      "metadata": {
        "id": "8C6AXbd1jst_",
        "colab_type": "text"
      },
      "source": [
        "## Recurrent neural networks\n",
        "\n",
        "Input:\n",
        "\n",
        "$x_{1:n} = x_1, x_2, \\ldots, x_n$, $x_i \\in \\mathbb{R}^{d_{in}}$\n",
        "\n",
        "For each input $x_{1:i}$ we get an output $y_i$:\n",
        "\n",
        "$y_i = RNN(x_{1:i})$, $y_i \\in \\mathbb{R}^{d_{out}}$\n",
        "\n",
        "For the whole input sequence $x_{1:n}$:\n",
        "\n",
        "$y_{1:n} = RNN^{*}(x_{1:n})$, $y_i \\in \\mathbb{R}^{d_{out}}$"
      ]
    },
    {
      "cell_type": "markdown",
      "metadata": {
        "id": "CVdGJAyXjst_",
        "colab_type": "text"
      },
      "source": [
        "$R$ is a recursive activation function with two inputs: $x_i$ и $s_{i-1}$ (state vector)\n",
        "\n",
        "$RNN^{*}(x_{1:n}, s_0) = y_{1:n}$\n",
        "\n",
        "$y_i = O(s_i) = g(W^{out}[s_{i} ,x_i] +b)$\n",
        "\n",
        "$s_i = R(s_{i-1}, x_i)$\n",
        "\n",
        "$s_i = R(s_{i-1}, x_i) = g(W^{hid}[s_{i-1} ,x_i] +b)$  -- concatenate $[s_{i-1}, x]$\n",
        "\n",
        "$x_i \\in \\mathbb{R}^{d_{in}}$, $y_i \\in \\mathbb{R}^{ d_{out}}$, $s_i \\in \\mathbb{R}^{d_{hid}}$\n",
        "\n",
        "$W^{hid} \\in \\mathbb{R}^{(d_{in}+d_{out}) \\times d_{hid}}$, $W^{out} \\in \\mathbb{R}^{d_{hid} \\times d_{out}}$"
      ]
    },
    {
      "cell_type": "markdown",
      "metadata": {
        "id": "z3kydlaIjsuA",
        "colab_type": "text"
      },
      "source": [
        "![rnn](https://github.com/enggen/Deep-Learning-Coursera/raw/1407e19c98833d2686a0748db26b594f3102301e/Sequence%20Models/Week1/Dinosaur%20Island%20--%20Character-level%20language%20model/images/rnn.png)"
      ]
    },
    {
      "cell_type": "markdown",
      "metadata": {
        "id": "oCsqUPwsjsuB",
        "colab_type": "text"
      },
      "source": [
        "We are going to create an RNN-LM using pytorch"
      ]
    },
    {
      "cell_type": "code",
      "metadata": {
        "id": "kVpY2fwfjsuB",
        "colab_type": "code",
        "colab": {}
      },
      "source": [
        "import numpy as np\n",
        "import random\n",
        "import torch\n",
        "import torch.nn as nn\n",
        "import torch.optim as optim\n",
        "import pdb\n",
        "from torch.utils.data import Dataset, DataLoader\n",
        "\n",
        "%load_ext autoreload\n",
        "%autoreload 2\n",
        "\n",
        "torch.set_printoptions(linewidth=200)"
      ],
      "execution_count": 0,
      "outputs": []
    },
    {
      "cell_type": "code",
      "metadata": {
        "id": "cZf1AjTejsuD",
        "colab_type": "code",
        "outputId": "2da6d4b5-47d4-40ed-a50a-f4d194b0888f",
        "colab": {
          "base_uri": "https://localhost:8080/",
          "height": 34
        }
      },
      "source": [
        "device = torch.device(\"cuda:0\" if torch.cuda.is_available() else \"cpu\")\n",
        "hidden_size = 50\n",
        "\n",
        "print(device)"
      ],
      "execution_count": 0,
      "outputs": [
        {
          "output_type": "stream",
          "text": [
            "cuda:0\n"
          ],
          "name": "stdout"
        }
      ]
    },
    {
      "cell_type": "markdown",
      "metadata": {
        "id": "47DUTIoWjsuG",
        "colab_type": "text"
      },
      "source": [
        "**Step 1**. Prepare the dataset"
      ]
    },
    {
      "cell_type": "code",
      "metadata": {
        "code_folding": [
          0
        ],
        "id": "zyqQmDHojsuH",
        "colab_type": "code",
        "colab": {}
      },
      "source": [
        "class DinosDataset(Dataset):\n",
        "    def __init__(self):\n",
        "        super().__init__()\n",
        "        with open('dinos.txt') as f:\n",
        "            content = f.read().lower()\n",
        "            self.vocab = sorted(set(content)) + ['<', '>']\n",
        "            self.vocab_size = len(self.vocab)\n",
        "            self.lines = content.splitlines()\n",
        "        self.ch_to_idx = {c:i for i, c in enumerate(self.vocab)}\n",
        "        self.idx_to_ch = {i:c for i, c in enumerate(self.vocab)}\n",
        "    \n",
        "    def __getitem__(self, index):\n",
        "        line = self.lines[index]\n",
        "        \n",
        "        ######################################\n",
        "        ## teacher forcing\n",
        "        x_str = '<' + line       # size = len x 28 ~ One hot encoding of letters. There are 'len' letters\n",
        "        y_str = line + '>'       # size = len  ~ number of letters\n",
        "        ######################################\n",
        "        \n",
        "        x = torch.zeros([len(x_str), self.vocab_size], dtype=torch.float)\n",
        "        y = torch.empty(len(x_str), dtype=torch.long)\n",
        "        for i, (x_ch, y_ch) in enumerate(zip(x_str, y_str)):\n",
        "            x[i][self.ch_to_idx[x_ch]] = 1\n",
        "            y[i] = self.ch_to_idx[y_ch]\n",
        "        \n",
        "        return x, y\n",
        "    \n",
        "    def __len__(self):\n",
        "        return len(self.lines)"
      ],
      "execution_count": 0,
      "outputs": []
    },
    {
      "cell_type": "code",
      "metadata": {
        "id": "2NG7JFWUjsuJ",
        "colab_type": "code",
        "colab": {}
      },
      "source": [
        "trn_ds = DinosDataset()\n",
        "trn_dl = DataLoader(trn_ds, shuffle=True)"
      ],
      "execution_count": 0,
      "outputs": []
    },
    {
      "cell_type": "code",
      "metadata": {
        "id": "k8Wn4caYjsuM",
        "colab_type": "code",
        "outputId": "877e4bd6-7a03-4f60-a361-93cc2845ed72",
        "colab": {
          "base_uri": "https://localhost:8080/",
          "height": 34
        }
      },
      "source": [
        "trn_ds.lines[1]"
      ],
      "execution_count": 0,
      "outputs": [
        {
          "output_type": "execute_result",
          "data": {
            "text/plain": [
              "'aardonyx'"
            ]
          },
          "metadata": {
            "tags": []
          },
          "execution_count": 10
        }
      ]
    },
    {
      "cell_type": "code",
      "metadata": {
        "id": "XUVas0h6jsuR",
        "colab_type": "code",
        "outputId": "482a8a12-bee6-4e03-903d-d58c65fc1782",
        "colab": {
          "base_uri": "https://localhost:8080/",
          "height": 54
        }
      },
      "source": [
        "print(trn_ds.idx_to_ch)"
      ],
      "execution_count": 0,
      "outputs": [
        {
          "output_type": "stream",
          "text": [
            "{0: '\\n', 1: 'a', 2: 'b', 3: 'c', 4: 'd', 5: 'e', 6: 'f', 7: 'g', 8: 'h', 9: 'i', 10: 'j', 11: 'k', 12: 'l', 13: 'm', 14: 'n', 15: 'o', 16: 'p', 17: 'q', 18: 'r', 19: 's', 20: 't', 21: 'u', 22: 'v', 23: 'w', 24: 'x', 25: 'y', 26: 'z', 27: '<', 28: '>'}\n"
          ],
          "name": "stdout"
        }
      ]
    },
    {
      "cell_type": "code",
      "metadata": {
        "id": "H41Yi3BPjsuU",
        "colab_type": "code",
        "outputId": "643144f7-00a9-4dd8-e5f5-1a2f6ec53f98",
        "colab": {
          "base_uri": "https://localhost:8080/",
          "height": 34
        }
      },
      "source": [
        "trn_ds.vocab_size"
      ],
      "execution_count": 0,
      "outputs": [
        {
          "output_type": "execute_result",
          "data": {
            "text/plain": [
              "29"
            ]
          },
          "metadata": {
            "tags": []
          },
          "execution_count": 12
        }
      ]
    },
    {
      "cell_type": "code",
      "metadata": {
        "id": "hNIKB8EPjsuW",
        "colab_type": "code",
        "colab": {}
      },
      "source": [
        "x, y = trn_ds[1]"
      ],
      "execution_count": 0,
      "outputs": []
    },
    {
      "cell_type": "code",
      "metadata": {
        "scrolled": true,
        "id": "a6K8dF4sjsuY",
        "colab_type": "code",
        "outputId": "9cc67f6d-049c-42a1-d59f-d4264a03e5cd",
        "colab": {
          "base_uri": "https://localhost:8080/",
          "height": 34
        }
      },
      "source": [
        "x.shape"
      ],
      "execution_count": 0,
      "outputs": [
        {
          "output_type": "execute_result",
          "data": {
            "text/plain": [
              "torch.Size([9, 29])"
            ]
          },
          "metadata": {
            "tags": []
          },
          "execution_count": 14
        }
      ]
    },
    {
      "cell_type": "code",
      "metadata": {
        "id": "zTiuj028jsub",
        "colab_type": "code",
        "outputId": "92267701-ba44-46e2-ed7a-220ceedf35f4",
        "colab": {
          "base_uri": "https://localhost:8080/",
          "height": 34
        }
      },
      "source": [
        "y.shape"
      ],
      "execution_count": 0,
      "outputs": [
        {
          "output_type": "execute_result",
          "data": {
            "text/plain": [
              "torch.Size([9])"
            ]
          },
          "metadata": {
            "tags": []
          },
          "execution_count": 15
        }
      ]
    },
    {
      "cell_type": "markdown",
      "metadata": {
        "id": "XoRJZCN4jsuf",
        "colab_type": "text"
      },
      "source": [
        "**Step 2**. Define a model, loss function and optimization algorithm"
      ]
    },
    {
      "cell_type": "code",
      "metadata": {
        "code_folding": [],
        "id": "QlnFtvOejsuf",
        "colab_type": "code",
        "colab": {}
      },
      "source": [
        "class RNN(nn.Module):\n",
        "    def __init__(self, input_size, hidden_size, output_size):\n",
        "        super().__init__()\n",
        "        self.i2h = nn.Linear(input_size + hidden_size, hidden_size)  # input to hidden matrix\n",
        "        self.dropout = nn.Dropout(0.3)\n",
        "        self.i2o = nn.Linear(input_size + hidden_size, output_size)  # input to output matrix\n",
        "    \n",
        "    def forward(self, h_prev, x):\n",
        "        combined = torch.cat([h_prev, x], dim = 1) # concatenate x and h\n",
        "        h = torch.tanh(self.dropout(self.i2h(combined)))\n",
        "        y = self.i2o(combined)\n",
        "        return h, y"
      ],
      "execution_count": 0,
      "outputs": []
    },
    {
      "cell_type": "code",
      "metadata": {
        "id": "oj4E8rCZjsuh",
        "colab_type": "code",
        "colab": {}
      },
      "source": [
        "model = RNN(trn_ds.vocab_size, hidden_size, trn_ds.vocab_size).to(device)\n",
        "loss_fn = nn.CrossEntropyLoss()\n",
        "optimizer = optim.SGD(model.parameters(), lr=1e-2)"
      ],
      "execution_count": 0,
      "outputs": []
    },
    {
      "cell_type": "markdown",
      "metadata": {
        "id": "JptwzGSmjsuj",
        "colab_type": "text"
      },
      "source": [
        "**Step 3**. Declare a sampling procedure"
      ]
    },
    {
      "cell_type": "markdown",
      "metadata": {
        "id": "ll7NCHwJjsuj",
        "colab_type": "text"
      },
      "source": [
        "![rnn](https://github.com/enggen/Deep-Learning-Coursera/raw/1407e19c98833d2686a0748db26b594f3102301e/Sequence%20Models/Week1/Dinosaur%20Island%20--%20Character-level%20language%20model/images/dinos3.png)"
      ]
    },
    {
      "cell_type": "code",
      "metadata": {
        "code_folding": [],
        "id": "D1UnWuHAjsuk",
        "colab_type": "code",
        "colab": {}
      },
      "source": [
        "def sample(model):\n",
        "    model.eval()\n",
        "    word_size=0\n",
        "    newline_idx = trn_ds.ch_to_idx['>']\n",
        "    with torch.no_grad():\n",
        "        h_prev = torch.zeros([1, hidden_size], dtype=torch.float, device=device)\n",
        "        x = h_prev.new_zeros([1, trn_ds.vocab_size])\n",
        "        start_char_idx = trn_ds.ch_to_idx['<']\n",
        "        indices = [start_char_idx]\n",
        "        x[0, start_char_idx] = 1\n",
        "        predicted_char_idx = start_char_idx\n",
        "        \n",
        "        while predicted_char_idx != newline_idx and word_size != 50:\n",
        "            h_prev, y_pred = model(h_prev, x)\n",
        "            y_softmax_scores = torch.softmax(y_pred, dim=1)\n",
        "            \n",
        "            np.random.seed(np.random.randint(1, 5000))\n",
        "            idx = np.random.choice(np.arange(trn_ds.vocab_size), p=y_softmax_scores.cpu().numpy().ravel())\n",
        "            indices.append(idx)\n",
        "            \n",
        "            x = (y_pred == y_pred.max(1)[0]).float()\n",
        " \n",
        "            \n",
        "            predicted_char_idx = idx\n",
        "            \n",
        "            word_size += 1\n",
        "        \n",
        "        if word_size == 50:\n",
        "            indices.append(newline_idx)\n",
        "    return indices"
      ],
      "execution_count": 0,
      "outputs": []
    },
    {
      "cell_type": "code",
      "metadata": {
        "code_folding": [],
        "id": "LCaYxWsmjsum",
        "colab_type": "code",
        "colab": {}
      },
      "source": [
        "def print_sample(sample_idxs):\n",
        "    [print(trn_ds.idx_to_ch[x], end ='') for x in sample_idxs]\n",
        "    print()"
      ],
      "execution_count": 0,
      "outputs": []
    },
    {
      "cell_type": "markdown",
      "metadata": {
        "id": "zgaVjs5ojsuo",
        "colab_type": "text"
      },
      "source": [
        "**Step 4**. Almost done! Train the model"
      ]
    },
    {
      "cell_type": "code",
      "metadata": {
        "code_folding": [],
        "id": "pcEvaxsVjsup",
        "colab_type": "code",
        "colab": {}
      },
      "source": [
        "def train_one_epoch(model, loss_fn, optimizer):\n",
        "    model.train()\n",
        "    for line_num, (x, y) in enumerate(trn_dl):\n",
        "        loss = 0\n",
        "        optimizer.zero_grad()\n",
        "        h_prev = torch.zeros([1, hidden_size], dtype=torch.float, device=device)\n",
        "        x, y = x.to(device), y.to(device)\n",
        "        for i in range(x.shape[1]):\n",
        "            h_prev, y_pred = model(h_prev, x[:, i])\n",
        "            loss += loss_fn(y_pred, y[:, i])\n",
        "            \n",
        "        if (line_num+1) % 100 == 0:\n",
        "            print_sample(sample(model))\n",
        "        loss.backward()\n",
        "        optimizer.step()"
      ],
      "execution_count": 0,
      "outputs": []
    },
    {
      "cell_type": "code",
      "metadata": {
        "code_folding": [],
        "id": "DDzjhaSfjsuq",
        "colab_type": "code",
        "colab": {}
      },
      "source": [
        "def train(model, loss_fn, optimizer, dataset='dinos', epochs=1):\n",
        "    for e in range(1, epochs+1):\n",
        "        print('Epoch:{}'.format(e))\n",
        "        train_one_epoch(model, loss_fn, optimizer)\n",
        "        print()"
      ],
      "execution_count": 0,
      "outputs": []
    },
    {
      "cell_type": "code",
      "metadata": {
        "id": "go9s9tqOAdkf",
        "colab_type": "code",
        "outputId": "f2c3378d-7207-4561-9cfb-f2e9531d643e",
        "colab": {
          "base_uri": "https://localhost:8080/",
          "height": 101
        }
      },
      "source": [
        "print(model)"
      ],
      "execution_count": 0,
      "outputs": [
        {
          "output_type": "stream",
          "text": [
            "RNN(\n",
            "  (i2h): Linear(in_features=79, out_features=50, bias=True)\n",
            "  (dropout): Dropout(p=0.3)\n",
            "  (i2o): Linear(in_features=79, out_features=29, bias=True)\n",
            ")\n"
          ],
          "name": "stdout"
        }
      ]
    },
    {
      "cell_type": "code",
      "metadata": {
        "scrolled": false,
        "id": "F88CtWHVjsus",
        "colab_type": "code",
        "outputId": "2d1df807-bfb6-4c06-c125-e618e36bc5e1",
        "colab": {
          "base_uri": "https://localhost:8080/",
          "height": 14297
        }
      },
      "source": [
        "train(model, loss_fn, optimizer, epochs = 50)"
      ],
      "execution_count": 0,
      "outputs": [
        {
          "output_type": "stream",
          "text": [
            "Epoch:1\n",
            "<nba>\n",
            "<juuoat>\n",
            "<oaalonasruslhs>\n",
            "<lacusasnus>\n",
            "<aubot>\n",
            "<xerusiurus>\n",
            "<tnrusasras>\n",
            "<aunuaauras>\n",
            "<tinasausus>\n",
            "<turooourus>\n",
            "<rtraseerus>\n",
            "<guaascarus>\n",
            "<haras>\n",
            "<pugus>\n",
            "<mirus>\n",
            "\n",
            "Epoch:2\n",
            "<tnotrahpapseur>\n",
            "<aeroainrus>\n",
            "<tatsosaurus>\n",
            "<sipttrnuras>\n",
            "<aaucontcrusaurus>\n",
            "<ancrusturus>\n",
            "<eiurysaurui>\n",
            "<lamudtssas>\n",
            "<marhsauius>\n",
            "<yrsas>\n",
            "<splushurus>\n",
            "<taoocaurus>\n",
            "<agrraiurus>\n",
            "<tcrus>\n",
            "<bururaurut>\n",
            "\n",
            "Epoch:3\n",
            "<ltrua>\n",
            "<lbrucspras>\n",
            "<lardsaurus>\n",
            "<xtsesturus>\n",
            "<jyrostudus>\n",
            "<eubuptcrusaurus>\n",
            "<aubosourus>\n",
            "<llrus>\n",
            "<snrusasras>\n",
            "<alnsakgunus>\n",
            "<hncucaurus>\n",
            "<turhshusus>\n",
            "<sualoauras>\n",
            "<tbesraurus>\n",
            "<aubmtiurus>\n",
            "\n",
            "Epoch:4\n",
            "<llrur>\n",
            "<srostcruo>\n",
            "<saurucauras>\n",
            "<snrasaurus>\n",
            "<surohsaurus>\n",
            "<suairauros>\n",
            "<tcgspaurus>\n",
            "<auaivotieurus>\n",
            "<rrvurjurasairus>\n",
            "<eubesacrus>\n",
            "<gbrantosaurus>\n",
            "<ruryshurul>\n",
            "<lcnucturis>\n",
            "<laresaunus>\n",
            "<xstasturus>\n",
            "\n",
            "Epoch:5\n",
            "<kyroseunus>\n",
            "<eubuotdrusaur>\n",
            "<gncuchurus>\n",
            "<turcshurus>\n",
            "<suaioauros>\n",
            "<tceuraurus>\n",
            "<auaiuosaurus>\n",
            "<ruryscurul>\n",
            "<lcmucnurds>\n",
            "<larbsaurus>\n",
            "<xssas>\n",
            "<salrosuurus>\n",
            "<anrapnnrus>\n",
            "<curaneunanrus>\n",
            "<pueutorasto>\n",
            "\n",
            "Epoch:6\n",
            "<srrusauros>\n",
            "<aunucauras>\n",
            "<snrasboty>\n",
            "<bursoaurus>\n",
            "<lausapalrus>\n",
            "<ftciosaurus>\n",
            "<apcrustsrus>\n",
            "<ditruseurus>\n",
            "<lckuceuros>\n",
            "<marcsaukus>\n",
            "<xrsasturus>\n",
            "<jyrlrssaurus>\n",
            "<aueuaisoa>\n",
            "<cukicturus>\n",
            "<burupaurus>\n",
            "\n",
            "Epoch:7\n",
            "<lsruaaurus>\n",
            "<slsaitucus>\n",
            "<gnatanturus>\n",
            "<srpuscurus>\n",
            "<taroaaurus>\n",
            "<ahroboetataup>\n",
            "<wtsasrratops>\n",
            "<srrutapaurus>\n",
            "<euaaskaraurus>\n",
            "<apuotaurus>\n",
            "<rtixtioseerus>\n",
            "<sdritaurul>\n",
            "<cukicplrus>\n",
            "<buroraurus>\n",
            "<ltrucaurus>\n",
            "\n",
            "Epoch:8\n",
            "<smtaeaurus>\n",
            "<gnatapturus>\n",
            "<spgssaurus>\n",
            "<taoranhrrus>\n",
            "<cinaolrurus>\n",
            "<kurugosaurus>\n",
            "<zurostaramrus>\n",
            "<fuaaticaurus>\n",
            "<tdrus>\n",
            "<burusaurus>\n",
            "<ltrucaurus>\n",
            "<snsaktueus>\n",
            "<gnbuaeurus>\n",
            "<suresiurus>\n",
            "<suaipalraxl>\n",
            "\n",
            "Epoch:9\n",
            "<ahsoaaurus>\n",
            "<scrurturus>\n",
            "<dtrlviurus>\n",
            "<ipbisaurus>\n",
            "<sraiipuris>\n",
            "<ivrucrutis>\n",
            "<rnwurkuras>\n",
            "<anrcoesdasacrus>\n",
            "<hcsapturus>\n",
            "<srkosiyaurus>\n",
            "<irbhsaurus>\n",
            "<snaoliurus>\n",
            "<jvrudourus>\n",
            "<rpytlsiurus>\n",
            "<eucumtcrus>\n",
            "\n",
            "Epoch:10\n",
            "<lirinaurus>\n",
            "<tgrusmurus>\n",
            "<saurucaurus>\n",
            "<smsaekukus>\n",
            "<gnatariurus>\n",
            "<sriosaurus>\n",
            "<tanhaneerus>\n",
            "<ciraomeurus>\n",
            "<jurueiurus>\n",
            "<rouurturas>\n",
            "<alrasesda>\n",
            "<lbrhscurus>\n",
            "<wrsasturus>\n",
            "<jyriptpdguarrusvuc>\n",
            "<sraoiturps>\n",
            "\n",
            "Epoch:11\n",
            "<jvruiturus>\n",
            "<rnytosaurus>\n",
            "<eubur>\n",
            "<agroaaurus>\n",
            "<tcnyrtas>\n",
            "<sriosoyspu>\n",
            "<tbrocgol>\n",
            "<frbdopaatrus>\n",
            "<sansosaurus>\n",
            "<shntrpoutaurss>\n",
            "<aumucauris>\n",
            "<snpasaurus>\n",
            "<surlmeurus>\n",
            "<pusapairus>\n",
            "<euaasiaaurus>\n",
            "\n",
            "Epoch:12\n",
            "<scrus>\n",
            "<buttoneurus>\n",
            "<pusapaerus>\n",
            "<euadoraurus>\n",
            "<aubivaurus>\n",
            "<llrorturus>\n",
            "<anhcisaurus>\n",
            "<sraomturis>\n",
            "<jvructurus>\n",
            "<roytlseurus>\n",
            "<eubtctanaulus>\n",
            "<gnbucaurus>\n",
            "<surassnu>\n",
            "<lsruangdisrumue>\n",
            "<sraoleurus>\n",
            "\n",
            "Epoch:13\n",
            "<jvrug>\n",
            "<turiseurus>\n",
            "<suanraitas>\n",
            "<tcdunaurus>\n",
            "<aubiscurus>\n",
            "<lloslusaurus>\n",
            "<lcauasaurus>\n",
            "<arduoalrus>\n",
            "<puatrsaurus>\n",
            "<srrosaosaurus>\n",
            "<tccopaurus>\n",
            "<aublshurus>\n",
            "<llroryurus>\n",
            "<anpantasaurus>\n",
            "<arguocasas>\n",
            "\n",
            "Epoch:14\n",
            "<oucosourus>\n",
            "<ytesqsauros>\n",
            "<atctanaurus>\n",
            "<gnbucaurus>\n",
            "<sukoturus>\n",
            "<pusdinaisaurus>\n",
            "<spaoipurus>\n",
            "<jurtdtosonuurus>\n",
            "<pusapairus>\n",
            "<eubdsacrus>\n",
            "<hcraruspurus>\n",
            "<durovtos>\n",
            "<tbroceon>\n",
            "<eubhrhcta>\n",
            "<gnbtcaurus>\n",
            "\n",
            "Epoch:15\n",
            "<sughroovaurus>\n",
            "<jpaisaurus>\n",
            "<srarisaurus>\n",
            "<wburosonoosaurus>\n",
            "<tanrapsctptar>\n",
            "<laresaurus>\n",
            "<wtsastorau>\n",
            "<kyrosturus>\n",
            "<euathtaurus>\n",
            "<cpnrasaurus>\n",
            "<susolturus>\n",
            "<puubiraurus>\n",
            "<tccuraurus>\n",
            "<aubitourus>\n",
            "<llropvurus>\n",
            "\n",
            "Epoch:16\n",
            "<anraltsrus>\n",
            "<curasaurus>\n",
            "<anttsaosiurus>\n",
            "<yurostcrus>\n",
            "<scrctaihulus>\n",
            "<gnbuaaurus>\n",
            "<surasaurus>\n",
            "<suaopaurus>\n",
            "<tccopaurus>\n",
            "<aucottop>\n",
            "<surisaurus>\n",
            "<suahicisaurus>\n",
            "<sraiatisaurus>\n",
            "<tgsustison>\n",
            "<srrttaranopl>\n",
            "\n",
            "Epoch:17\n",
            "<euadoobaurus>\n",
            "<scevotaurus>\n",
            "<rurxsaurus>\n",
            "<lcductetanttaraxops>\n",
            "<antosgpshurus>\n",
            "<yupostarodtur>\n",
            "<eubasacrus>\n",
            "<hcrapturus>\n",
            "<sreusaurus>\n",
            "<tbriceorun>\n",
            "<agroboisencus>\n",
            "<wstertosaurus>\n",
            "<lsruchlaa>\n",
            "<aurucauros>\n",
            "<snrasalta>\n",
            "\n",
            "Epoch:18\n",
            "<buropaurus>\n",
            "<lsruaaurus>\n",
            "<smsagaurus>\n",
            "<gncuch>\n",
            "<pubtrsaurus>\n",
            "<satrochodaurus>\n",
            "<ajtocaurus>\n",
            "<sdpyrturus>\n",
            "<dsroysaurus>\n",
            "<lcioctitaurus>\n",
            "<cuenasaurus>\n",
            "<surmltor>\n",
            "<spruuaranrus>\n",
            "<fuaasacrus>\n",
            "<hcsaiuotaurus>\n",
            "\n",
            "Epoch:19\n",
            "<rrayttrusaunis>\n",
            "<atatacsaerus>\n",
            "<hcsapturus>\n",
            "<srbtosturus>\n",
            "<anranoeta>\n",
            "<agsiaserapasa>\n",
            "<wrsas>\n",
            "<srnusnysaurus>\n",
            "<kcruaturos>\n",
            "<lbrirepaurus>\n",
            "<tgqusoepsn>\n",
            "<sprosaurus>\n",
            "<auduaeaurus>\n",
            "<gncuchutrn>\n",
            "<tinjosaurus>\n",
            "\n",
            "Epoch:20\n",
            "<tbikcksaurus>\n",
            "<sraoltosauc>\n",
            "<wruhososaurus>\n",
            "<lurubhsas>\n",
            "<auhucauros>\n",
            "<smrasaurus>\n",
            "<surons>\n",
            "<kuuoossdrus>\n",
            "<scrosaurus>\n",
            "<cudoaterus>\n",
            "<busoraurus>\n",
            "<lhttangasaurus>\n",
            "<burapaurus>\n",
            "<anytrieurus>\n",
            "<rpytosaurus>\n",
            "\n",
            "Epoch:21\n",
            "<eucue>\n",
            "<ahpocaurus>\n",
            "<sansosaurus>\n",
            "<sintordurhs>\n",
            "<ansareogastas>\n",
            "<snccocaurus>\n",
            "<tuelosi>\n",
            "<snrosauris>\n",
            "<aulucauros>\n",
            "<snlasaurus>\n",
            "<suromturus>\n",
            "<ptuaincraurus>\n",
            "<btiarastor>\n",
            "<antosdshurus>\n",
            "<jyrors>\n",
            "\n",
            "Epoch:22\n",
            "<anras>\n",
            "<aulucersasars>\n",
            "<aubiskurus>\n",
            "<lmrtptsti>\n",
            "<tbrocaurus>\n",
            "<airncldiurus>\n",
            "<jvruasurus>\n",
            "<rpytosaurus>\n",
            "<etatgubauairus>\n",
            "<hcsalzosaurus>\n",
            "<rhnwrsiurus>\n",
            "<aaucrnterus>\n",
            "<llrinasaurus>\n",
            "<suroloshys>\n",
            "<pusalnaa>\n",
            "\n",
            "Epoch:23\n",
            "<aucuaurus>\n",
            "<cucnasaurus>\n",
            "<surolrott>\n",
            "<ltruaburus>\n",
            "<snsalaulus>\n",
            "<gnaoanssaurus>\n",
            "<durhytospurus>\n",
            "<euasaurus>\n",
            "<areuohasao>\n",
            "<pucusromos>\n",
            "<yunootaurus>\n",
            "<atescdsaerus>\n",
            "<hcsalumtan>\n",
            "<spcpsnsiurus>\n",
            "<iocisapsualturus>\n",
            "\n",
            "Epoch:24\n",
            "<gnbuaaurus>\n",
            "<surissurus>\n",
            "<subipaurus>\n",
            "<tccoechdhurus>\n",
            "<jvrulaurus>\n",
            "<rotoptotastar>\n",
            "<auctaeslaolsl>\n",
            "<aucntrzgusnurus>\n",
            "<yurostcrodaurus>\n",
            "<airlanasaurus>\n",
            "<wrthstoravthuscurus>\n",
            "<lcltaorhirus>\n",
            "<lisarasaurus>\n",
            "<susomturus>\n",
            "<pttarahrus>\n",
            "\n",
            "Epoch:25\n",
            "<euahoraurus>\n",
            "<aucotmurus>\n",
            "<llrtntsatopl>\n",
            "<lcgocpurus>\n",
            "<lbrhsaurus>\n",
            "<wstattoratthysaurus>\n",
            "<lcltasdtaurus>\n",
            "<curicocaurus>\n",
            "<sugiote>\n",
            "<sanrucaurus>\n",
            "<smtalpurus>\n",
            "<gacraryurus>\n",
            "<sqktreztor>\n",
            "<tanramcsrus>\n",
            "<burapaspor>\n",
            "\n",
            "Epoch:26\n",
            "<anyrvchurus>\n",
            "<rptupostas>\n",
            "<anreonscauras>\n",
            "<salcodgxrtdaurus>\n",
            "<rpturiuras>\n",
            "<amsasaurus>\n",
            "<apcuoanrus>\n",
            "<oucustiisoptor>\n",
            "<suahocgsaurus>\n",
            "<srbolsere>\n",
            "<anutrnaurus>\n",
            "<pnttnnosaurus>\n",
            "<atcmaeoraurus>\n",
            "<aucosaurus>\n",
            "<llsopyote>\n",
            "\n",
            "Epoch:27\n",
            "<tbnocesaurus>\n",
            "<soaomhurus>\n",
            "<jurubturus>\n",
            "<rnusnturas>\n",
            "<amsasaurus>\n",
            "<arboenaurus>\n",
            "<tgruslnhurus>\n",
            "<pusaplcaurus>\n",
            "<aauiaraurus>\n",
            "<antosaurus>\n",
            "<shnysaurui>\n",
            "<lanrctosaurus>\n",
            "<ctgnaucnuaurus>\n",
            "<llpsnuurus>\n",
            "<aniansdaurus>\n",
            "\n",
            "Epoch:28\n",
            "<lbiirdalrus>\n",
            "<pudooson>\n",
            "<rnytntopcaurus>\n",
            "<smtaasocaurus>\n",
            "<sdoystsrus>\n",
            "<durivrgosigrus>\n",
            "<sdomtcauras>\n",
            "<smdctcaurus>\n",
            "<surhroiuor>\n",
            "<suahnaauasaurus>\n",
            "<arcrpiataurus>\n",
            "<susoanos>\n",
            "<srrusasras>\n",
            "<aucoadonaoneurus>\n",
            "<ivrukt>\n",
            "\n",
            "Epoch:29\n",
            "<spatonturus>\n",
            "<anracnarsaurus>\n",
            "<laugieueaurus>\n",
            "<surissoturus>\n",
            "<anralsasaurus>\n",
            "<aagtmaerus>\n",
            "<pteustsaurus>\n",
            "<lrrualsaurus>\n",
            "<tccuraegturus>\n",
            "<jvrtassaurus>\n",
            "<yuistucosaurus>\n",
            "<tcbhicoppurus>\n",
            "<ivrulsutiurus>\n",
            "<spsosasiasiurus>\n",
            "<burapdoreasus>\n",
            "\n",
            "Epoch:30\n",
            "<pvgosaurus>\n",
            "<yugtosaures>\n",
            "<aueucauras>\n",
            "<snkasapturus>\n",
            "<srcosaurus>\n",
            "<tbkncasasaurus>\n",
            "<ardtnocmsrus>\n",
            "<butsoesontor>\n",
            "<suaopansaurus>\n",
            "<srbohiurns>\n",
            "<kurrasiurus>\n",
            "<kuurosicrus>\n",
            "<scsksactocaurus>\n",
            "<sdgyitet>\n",
            "<sngssavrus>\n",
            "\n",
            "Epoch:31\n",
            "<tcrkccue>\n",
            "<euaasicrus>\n",
            "<hcsarssourus>\n",
            "<dtonturus>\n",
            "<anicisaurus>\n",
            "<srbonouros>\n",
            "<juruntosaurus>\n",
            "<sorusaurus>\n",
            "<atehaeosaurus>\n",
            "<auantotascurus>\n",
            "<kyrossunus>\n",
            "<eucopterus>\n",
            "<lksonaurus>\n",
            "<tgstsaurus>\n",
            "<snostapaurus>\n",
            "\n",
            "Epoch:32\n",
            "<eubcsaprus>\n",
            "<haurosaurus>\n",
            "<llsomtratope>\n",
            "<kcdtauruc>\n",
            "<soaodourus>\n",
            "<ivrucsrtor>\n",
            "<rnttpootaseurus>\n",
            "<euchplcioshudun>\n",
            "<wrtislurus>\n",
            "<jwsoptodanahsaul>\n",
            "<agsicris>\n",
            "<hcsarturus>\n",
            "<snctonvurus>\n",
            "<ankahodcuras>\n",
            "<lbrhrnoasaurus>\n",
            "\n",
            "Epoch:33\n",
            "<surus>\n",
            "<rqwus>\n",
            "<stbiicesa>\n",
            "<ftcrspaidourus>\n",
            "<kurrisporaurus>\n",
            "<lastaricror>\n",
            "<eubhonasaurus>\n",
            "<antosaurus>\n",
            "<rrivtaurus>\n",
            "<lcctatatanrranm>\n",
            "<gmaocaurus>\n",
            "<tuikosaurus>\n",
            "<tcgncaseor>\n",
            "<airraraurus>\n",
            "<antosaoshurus>\n",
            "\n",
            "Epoch:34\n",
            "<yugostareemus>\n",
            "<eubcsacrus>\n",
            "<hcreisosaurus>\n",
            "<rulysaurus>\n",
            "<lcetasaurus>\n",
            "<apctplasas>\n",
            "<puatrsaurus>\n",
            "<spsosaurus>\n",
            "<aucoaeosaurus>\n",
            "<aubovaurus>\n",
            "<llthevoptoraeuantd>\n",
            "<fubisacrus>\n",
            "<hcthisaurus>\n",
            "<llpsiytgospnrus>\n",
            "<sdsisaurun>\n",
            "\n",
            "Epoch:35\n",
            "<curociurus>\n",
            "<bursoasiurus>\n",
            "<subnpalodh>\n",
            "<tcctpando>\n",
            "<hcsbptosaurus>\n",
            "<rtkyscurus>\n",
            "<lcdocsisal>\n",
            "<laihsaurus>\n",
            "<wrsastosaurus>\n",
            "<ltstclelox>\n",
            "<smsadsnaon>\n",
            "<gnbsch>\n",
            "<puctutpaurus>\n",
            "<ltrucaurus>\n",
            "<smsalopaor>\n",
            "\n",
            "Epoch:36\n",
            "<gnaucovaurus>\n",
            "<llropyoryx>\n",
            "<angeeseom>\n",
            "<agsibiisaurus>\n",
            "<wrsastota>\n",
            "<rpttpoota>\n",
            "<lcciasosaes>\n",
            "<apgopkasas>\n",
            "<ouahosolaurus>\n",
            "<pusanicnor>\n",
            "<fuaatiasaurus>\n",
            "<antoslossaurus>\n",
            "<sarpsauros>\n",
            "<amltaasacrus>\n",
            "<hcsaruspurus>\n",
            "\n",
            "Epoch:37\n",
            "<dtsot>\n",
            "<ltroancerus>\n",
            "<euaatairus>\n",
            "<gcudiyrseshurus>\n",
            "<jxtjpsubioaurus>\n",
            "<tcctnaonhurus>\n",
            "<ivrudeurus>\n",
            "<rnturssuasanrus>\n",
            "<eubesacrus>\n",
            "<gcseeuotaurus>\n",
            "<qurystosycmud>\n",
            "<sdkisarrus>\n",
            "<cukictcaurus>\n",
            "<suihorovhurus>\n",
            "<jpbasasaurus>\n",
            "\n",
            "Epoch:38\n",
            "<apgopactar>\n",
            "<puctstipaurus>\n",
            "<qiuaisaurus>\n",
            "<tccuraodopaurus>\n",
            "<pucusiurus>\n",
            "<yuioosaisaurus>\n",
            "<tcctraraurus>\n",
            "<aavtrnlurus>\n",
            "<rntuplosaurus>\n",
            "<auduceoraurus>\n",
            "<auciui>\n",
            "<bustpeosaurus>\n",
            "<tbroaaurus>\n",
            "<agrhanaurus>\n",
            "<anwsrno>\n",
            "\n",
            "Epoch:39\n",
            "<sratos>\n",
            "<srstrapaurus>\n",
            "<eualtocaurus>\n",
            "<scduoolouaurus>\n",
            "<yunoosaurus>\n",
            "<auctaeosaurus>\n",
            "<auboshudaurus>\n",
            "<rpttosotaurus>\n",
            "<aunucauris>\n",
            "<sneaodos>\n",
            "<thsoungosaurus>\n",
            "<tbhoaaulus>\n",
            "<airiangsaurus>\n",
            "<wrtarsosaurus>\n",
            "<lssucligox>\n",
            "\n",
            "Epoch:40\n",
            "<slucaurus>\n",
            "<smkasaurus>\n",
            "<spunhosaurus>\n",
            "<tbehalocaurus>\n",
            "<lbrisledomaurus>\n",
            "<surisourus>\n",
            "<subhadisaurus>\n",
            "<spaonteraxaov>\n",
            "<tartoodaurus>\n",
            "<pttaralrus>\n",
            "<euaasiarox>\n",
            "<hcsaitotes>\n",
            "<spctosyurus>\n",
            "<apqalorrus>\n",
            "<btiafgrus>\n",
            "\n",
            "Epoch:41\n",
            "<sdiutsasaurus>\n",
            "<k>\n",
            "<sprosaptap>\n",
            "<atcoadosaurus>\n",
            "<auantrmurus>\n",
            "<dssauopo>\n",
            "<tbrocaurus>\n",
            "<aishangsaurus>\n",
            "<wssauoshesos>\n",
            "<spsoucklan>\n",
            "<auctaniuius>\n",
            "<gnatcpturus>\n",
            "<srcsosuurus>\n",
            "<apraphnrus>\n",
            "<burapasgod>\n",
            "\n",
            "Epoch:42\n",
            "<antosaurus>\n",
            "<qtrystus>\n",
            "<anoaphurus>\n",
            "<buraieodon>\n",
            "<aauorreurus>\n",
            "<rntraprpbopa>\n",
            "<saugrcastar>\n",
            "<snkasaurus>\n",
            "<susorturus>\n",
            "<pusaaldptluuycos>\n",
            "<arateqatap>\n",
            "<pucustiryx>\n",
            "<ytgstodapeor>\n",
            "<sntaasacrus>\n",
            "<hcraltmogr>\n",
            "\n",
            "Epoch:43\n",
            "<spats>\n",
            "<yurostasaurus>\n",
            "<fpclopanes>\n",
            "<haujotaurus>\n",
            "<llroptorrx>\n",
            "<aoranocthodauris>\n",
            "<sngcrdaurus>\n",
            "<suraron>\n",
            "<sprorcisaurus>\n",
            "<tcctpaor>\n",
            "<gnasgaurus>\n",
            "<sukhosnvturus>\n",
            "<ipalrcauros>\n",
            "<lbiasinaurus>\n",
            "<taururisaurus>\n",
            "\n",
            "Epoch:44\n",
            "<sobroaaurus>\n",
            "<aaurascur>\n",
            "<aucosturus>\n",
            "<llkrnvsaurus>\n",
            "<lcguctiksrus>\n",
            "<ljshacucaurus>\n",
            "<surhosouaurus>\n",
            "<ircisaurus>\n",
            "<srarasaurus>\n",
            "<waumqssndaurus>\n",
            "<piucopaltas>\n",
            "<tcasoailcurus>\n",
            "<jvroaskurus>\n",
            "<kxshosocaurus>\n",
            "<slsalosaurus>\n",
            "\n",
            "Epoch:45\n",
            "<auahupon>\n",
            "<tthnota>\n",
            "<snroucisaurus>\n",
            "<tcchocaurus>\n",
            "<sdgustsrus>\n",
            "<dtojvturus>\n",
            "<inbhtataurus>\n",
            "<apatheaurus>\n",
            "<tisoongosaurus>\n",
            "<tbricaurus>\n",
            "<ahsobaurus>\n",
            "<santosaurus>\n",
            "<rurwsersybesaurus>\n",
            "<tccliconaurus>\n",
            "<jvrulturus>\n",
            "\n",
            "Epoch:46\n",
            "<rnyurturas>\n",
            "<alocooirrus>\n",
            "<llpisasakutor>\n",
            "<surisons>\n",
            "<luruaisaurus>\n",
            "<tcctraurus>\n",
            "<aubiuouaor>\n",
            "<lloooysourus>\n",
            "<kccoatgsaurus>\n",
            "<cucnasapt>\n",
            "<thrrongsaurus>\n",
            "<suahlantirus>\n",
            "<buraraurus>\n",
            "<apwosaurus>\n",
            "<rsgxsaurus>\n",
            "\n",
            "Epoch:47\n",
            "<lcgua>\n",
            "<euaisadrus>\n",
            "<hcsaruurus>\n",
            "<saktorytaurus>\n",
            "<kcaucturas>\n",
            "<lbieomocourus>\n",
            "<busunaurus>\n",
            "<ltrucaurus>\n",
            "<sauaarkasaurus>\n",
            "<aauructosaurus>\n",
            "<sartrcaurus>\n",
            "<saucisacrus>\n",
            "<hcsepturus>\n",
            "<sqdtsaurus>\n",
            "<tcgnarenrus>\n",
            "\n",
            "Epoch:48\n",
            "<cunaiiydhas>\n",
            "<juurishurus>\n",
            "<kxrerosashsrus>\n",
            "<fubhsiasaurus>\n",
            "<antusattor>\n",
            "<rurzrnosturus>\n",
            "<scsmrcesasrus>\n",
            "<hcsanvksaurus>\n",
            "<rtrysnstudcurus>\n",
            "<smtcasocaurus>\n",
            "<scrustlrus>\n",
            "<dtrovturus>\n",
            "<irbnsaurus>\n",
            "<soaolopairos>\n",
            "<puatrordpo>\n",
            "\n",
            "Epoch:49\n",
            "<yuioosaurus>\n",
            "<aueraiosaurus>\n",
            "<aicgrruetoruitoo>\n",
            "<sanptapasrus>\n",
            "<fpcdstaratiurus>\n",
            "<wrucoosndaurus>\n",
            "<pusaiedpeurus>\n",
            "<conbopeurus>\n",
            "<kuntasiurus>\n",
            "<kxsisouaaunus>\n",
            "<smucesadrus>\n",
            "<hcsaptota>\n",
            "<surishurus>\n",
            "<subilchsaurus>\n",
            "<sranesaurus>\n",
            "\n",
            "Epoch:50\n",
            "<wrteosuaurus>\n",
            "<spptocaurus>\n",
            "<smubesaerus>\n",
            "<hcualurterus>\n",
            "<drnoysaurus>\n",
            "<kcntcaurms>\n",
            "<lbrasenardaurus>\n",
            "<ttihosaurus>\n",
            "<tbrncaurus>\n",
            "<agrhaloptoe>\n",
            "<antosaurus>\n",
            "<rtgxosiuros>\n",
            "<amsasaurus>\n",
            "<apclamdsaurus>\n",
            "<souihisaurus>\n",
            "\n"
          ],
          "name": "stdout"
        }
      ]
    },
    {
      "cell_type": "markdown",
      "metadata": {
        "id": "1wz6WYF8CgmO",
        "colab_type": "text"
      },
      "source": [
        "# HW Problem 3.2"
      ]
    },
    {
      "cell_type": "code",
      "metadata": {
        "id": "_jsYvoNICgBa",
        "colab_type": "code",
        "colab": {}
      },
      "source": [
        "class Neural_Language_Model(nn.Module):\n",
        "    def __init__(self, input_size, hidden_size, output_size):\n",
        "        super().__init__()\n",
        "        self.i2h = nn.Linear(input_size, hidden_size)  # input to hidden matrix\n",
        "        self.i2o = nn.Linear(3*hidden_size, output_size)  # input to output matrix\n",
        "    \n",
        "    def forward(self, x):\n",
        "        \n",
        "        x_1 = self.i2h(x[:, 0])\n",
        "        x_2 = self.i2h(x[:, 1])\n",
        "        x_3 = self.i2h(x[:, 2])\n",
        "        x = torch.cat([x_1, x_2, x_3], dim = 1)\n",
        "        x = torch.tanh(x)\n",
        "        x = self.i2o(x)\n",
        "        return x\n",
        "      \n",
        "def train_one_epoch(model, loss_fn, optimizer):\n",
        "    model.train()\n",
        "    for line_num, (x, y) in enumerate(trn_dl):\n",
        "        loss = 0\n",
        "        optimizer.zero_grad()\n",
        "        x, y = x.to(device), y.to(device)\n",
        "        if x.shape[1] <= 3:\n",
        "          continue\n",
        "        for i in range(x.shape[1] - 3):\n",
        "            y_pred = model(x[:, i:i+3])\n",
        "            loss += loss_fn(y_pred, y[:, i+3])\n",
        "        loss.backward()\n",
        "        optimizer.step()\n",
        "        \n",
        "        \n",
        "def train(model, loss_fn, optimizer, dataset='dinos', epochs=1):\n",
        "    for e in range(1, epochs+1):\n",
        "        print('Epoch:{}'.format(e))\n",
        "        train_one_epoch(model, loss_fn, optimizer)\n",
        "        "
      ],
      "execution_count": 0,
      "outputs": []
    },
    {
      "cell_type": "code",
      "metadata": {
        "id": "qDpdAfFcCxnn",
        "colab_type": "code",
        "colab": {}
      },
      "source": [
        "model_2 = Neural_Language_Model(trn_ds.vocab_size, hidden_size, trn_ds.vocab_size).to(device)\n",
        "loss_fn = nn.CrossEntropyLoss()\n",
        "optimizer = optim.SGD(model_2.parameters(), lr=1e-2)"
      ],
      "execution_count": 0,
      "outputs": []
    },
    {
      "cell_type": "code",
      "metadata": {
        "id": "gIqnFkKIEuUa",
        "colab_type": "code",
        "outputId": "89205830-58d0-407b-cb4e-c851890c1be9",
        "colab": {
          "base_uri": "https://localhost:8080/",
          "height": 857
        }
      },
      "source": [
        "train(model_2, loss_fn, optimizer, epochs = 50)"
      ],
      "execution_count": 0,
      "outputs": [
        {
          "output_type": "stream",
          "text": [
            "Epoch:1\n",
            "Epoch:2\n",
            "Epoch:3\n",
            "Epoch:4\n",
            "Epoch:5\n",
            "Epoch:6\n",
            "Epoch:7\n",
            "Epoch:8\n",
            "Epoch:9\n",
            "Epoch:10\n",
            "Epoch:11\n",
            "Epoch:12\n",
            "Epoch:13\n",
            "Epoch:14\n",
            "Epoch:15\n",
            "Epoch:16\n",
            "Epoch:17\n",
            "Epoch:18\n",
            "Epoch:19\n",
            "Epoch:20\n",
            "Epoch:21\n",
            "Epoch:22\n",
            "Epoch:23\n",
            "Epoch:24\n",
            "Epoch:25\n",
            "Epoch:26\n",
            "Epoch:27\n",
            "Epoch:28\n",
            "Epoch:29\n",
            "Epoch:30\n",
            "Epoch:31\n",
            "Epoch:32\n",
            "Epoch:33\n",
            "Epoch:34\n",
            "Epoch:35\n",
            "Epoch:36\n",
            "Epoch:37\n",
            "Epoch:38\n",
            "Epoch:39\n",
            "Epoch:40\n",
            "Epoch:41\n",
            "Epoch:42\n",
            "Epoch:43\n",
            "Epoch:44\n",
            "Epoch:45\n",
            "Epoch:46\n",
            "Epoch:47\n",
            "Epoch:48\n",
            "Epoch:49\n",
            "Epoch:50\n"
          ],
          "name": "stdout"
        }
      ]
    },
    {
      "cell_type": "markdown",
      "metadata": {
        "id": "TX2v1vhUS-6K",
        "colab_type": "text"
      },
      "source": [
        "Hyperparameters are:  \n",
        "- k  \n",
        "- hidden_size\n",
        "\n",
        " **Increasing k to ~5** would yield a bit better results. Hidden size equal to 40 or 60 approximately does not change anything "
      ]
    },
    {
      "cell_type": "markdown",
      "metadata": {
        "id": "hCyL8Acj5zQD",
        "colab_type": "text"
      },
      "source": [
        "# HW, Problem 3.3"
      ]
    },
    {
      "cell_type": "code",
      "metadata": {
        "id": "3KYcRggR5ypA",
        "colab_type": "code",
        "outputId": "5d4857a0-e1f2-41f9-ed01-c0263cfe5d0b",
        "colab": {
          "base_uri": "https://localhost:8080/",
          "height": 101
        }
      },
      "source": [
        "## generate a few name of dinosaurs\n",
        "\n",
        "few = 5\n",
        "\n",
        "for i in range(few):\n",
        "  name_idx = sample(model)\n",
        "  print_sample(name_idx)"
      ],
      "execution_count": 0,
      "outputs": [
        {
          "output_type": "stream",
          "text": [
            "<lbrcpnicaurus>\n",
            "<busolmosaurus>\n",
            "<tbmianodauris>\n",
            "<lbrcpnicaurus>\n",
            "<busolmosaurus>\n"
          ],
          "name": "stdout"
        }
      ]
    },
    {
      "cell_type": "markdown",
      "metadata": {
        "id": "wKF_xKWA6gAw",
        "colab_type": "text"
      },
      "source": [
        "### a) Key differences between neural language model and RNN model   \n",
        "\n",
        "1. neural language model uses fixed length context, RNN - does not\n",
        "2. RNN may have longer memory. However, in, practice, if we do not use GRU or LSTM memory is pretty short\n",
        "3. In Neural Language model there is no hidden state from previous step (h_prev)\n",
        "3. RNN has vanishing gradient problem, while neural language model - not \n",
        "\n",
        "\n",
        "\n",
        "### b) Number of parameters for neural language model and RNN model:  \n",
        "\n",
        "1.  Neural Language Model:   \n",
        "number parameters of \"i2h\"  and **k*** \"i2o\" matrix = **input_size * hidden_size + k*hidden_size * output_size + 2= 5802**   \n",
        "  \n",
        "  \n",
        "2.  RNN:   \n",
        "number parameters of \"i2h\" and \"i2o\" matrix =  **(input_size + hidden_size) * hidden_size + (input_size + hidden_size) * output_size + 2= 6243**   \n",
        "\n",
        "      Note:  \n",
        "      -- iput size = 29  \n",
        "      -- hidden size = 50  \n",
        "      -- output size = 29  \n",
        "      -- Each layer has a bias term, 2 layers = 2 bias terms  \n",
        "      -- k = 3 for Neural Language Model"
      ]
    },
    {
      "cell_type": "markdown",
      "metadata": {
        "id": "eCFjdgjwjsuu",
        "colab_type": "text"
      },
      "source": [
        "# Reference\n",
        "\n",
        "1. Sampling in  RNN: https://nlp.stanford.edu/blog/maximum-likelihood-decoding-with-rnns-the-good-the-bad-and-the-ugly/\n",
        "2. Coursera course (main source): https://github.com/furkanu/deeplearning.ai-pytorch/tree/master/5-%20Sequence%20Models\n",
        "3. Coursera course (main source): https://github.com/Kulbear/deep-learning-coursera/blob/master/Sequence%20Models/Dinosaurus%20Island%20--%20Character%20level%20language%20model%20final%20-%20v3.ipynb\n",
        "4. LSTM: http://colah.github.io/posts/2015-08-Understanding-LSTMs/"
      ]
    }
  ]
}